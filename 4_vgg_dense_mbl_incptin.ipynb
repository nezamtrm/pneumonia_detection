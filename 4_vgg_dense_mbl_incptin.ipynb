{
  "nbformat": 4,
  "nbformat_minor": 0,
  "metadata": {
    "colab": {
      "provenance": [],
      "gpuType": "T4"
    },
    "kernelspec": {
      "name": "python3",
      "display_name": "Python 3"
    },
    "language_info": {
      "name": "python"
    },
    "accelerator": "GPU"
  },
  "cells": [
    {
      "cell_type": "code",
      "source": [
        "from google.colab import drive\n",
        "drive.mount('/content/gdrive')"
      ],
      "metadata": {
        "colab": {
          "base_uri": "https://localhost:8080/"
        },
        "id": "EkfYLtYqxvGx",
        "outputId": "ebde63bc-ef62-4884-b6b3-9b61ac4f6168"
      },
      "execution_count": null,
      "outputs": [
        {
          "output_type": "stream",
          "name": "stdout",
          "text": [
            "Mounted at /content/gdrive\n"
          ]
        }
      ]
    },
    {
      "cell_type": "code",
      "source": [
        "import numpy as np\n",
        "from pathlib import Path\n",
        "import matplotlib.pyplot as plt\n",
        "import tensorflow as tf\n",
        "from tensorflow.keras.utils import image_dataset_from_directory\n",
        "from tensorflow.keras import Sequential , Input, layers , losses , optimizers\n",
        "from tensorflow.keras.applications.vgg16 import VGG16\n",
        "from tensorflow.keras.applications.vgg16 import preprocess_input\n",
        "from keras.applications.efficientnet import EfficientNetB3\n",
        "from keras.preprocessing.image import ImageDataGenerator\n",
        "from sklearn.model_selection import train_test_split\n",
        "import os\n",
        "import shutil\n",
        "import matplotlib.pyplot as plt\n",
        "from keras.layers import concatenate\n",
        "from keras.layers import Input\n",
        "from keras.optimizers import Adam, Adamax\n",
        "from keras.layers import MaxPooling2D, Flatten,Conv2D, Dense,BatchNormalization,GlobalAveragePooling2D,Dropout\n",
        "from tensorflow.keras.applications.densenet import DenseNet169\n",
        "from keras.applications.mobilenet_v2 import MobileNetV2\n",
        "from keras.models import Model\n",
        "from keras import regularizers\n",
        "from tensorflow.keras.layers import Attention\n",
        "from tensorflow.keras.applications import InceptionResNetV2\n",
        "from tensorflow.keras.layers import Attention, Concatenate, Lambda, Layer\n",
        "# import tensorflow as tf\n",
        "# from tensorflow.keras.preprocessing.image import ImageDataGenerator"
      ],
      "metadata": {
        "id": "EELg_jMCvHCM"
      },
      "execution_count": null,
      "outputs": []
    },
    {
      "cell_type": "code",
      "source": [
        "data_dir = '/content/gdrive/MyDrive/Colab Notebooks/dataset/Curated X-Ray Dataset'\n",
        "class_names = ['COVID-19', 'Normal', 'Pneumonia-Bacterial', 'Pneumonia-Viral']"
      ],
      "metadata": {
        "id": "Vk98A7g5xz8m"
      },
      "execution_count": null,
      "outputs": []
    },
    {
      "cell_type": "code",
      "source": [
        "test_data_dir0 = '/content/gdrive/MyDrive/Colab Notebooks/dataset/Curated X-Ray Dataset/test_set'\n",
        "train_data_dir0 = '/content/gdrive/MyDrive/Colab Notebooks/dataset/Curated X-Ray Dataset/train_set'\n",
        "valid_data_dir0 = '/content/gdrive/MyDrive/Colab Notebooks/dataset/Curated X-Ray Dataset/valid_set'"
      ],
      "metadata": {
        "id": "GNxooTlJx2Z_"
      },
      "execution_count": null,
      "outputs": []
    },
    {
      "cell_type": "code",
      "source": [
        "datagen = ImageDataGenerator(rescale=1.0 / 255)\n"
      ],
      "metadata": {
        "id": "xeJBS921x2cX"
      },
      "execution_count": null,
      "outputs": []
    },
    {
      "cell_type": "code",
      "source": [
        "train_datagen = ImageDataGenerator(\n",
        "    rescale=1.0 / 255,      # Rescale pixel values to [0, 1]\n",
        "    rotation_range=20,      # Randomly rotate images by 20 degrees\n",
        "    width_shift_range=0.2,  # Randomly shift images horizontally by 20% of the width\n",
        "    height_shift_range=0.2, # Randomly shift images vertically by 20% of the height\n",
        "    shear_range=0.2,        # Shear transformations\n",
        "    zoom_range=0.2,         # Randomly zoom images by 20%\n",
        "    horizontal_flip=True,   # Randomly flip images horizontally\n",
        "    fill_mode='nearest'     # How to fill newly created pixels after rotation or shifts\n",
        ")"
      ],
      "metadata": {
        "id": "8wC5VeZlx2eY"
      },
      "execution_count": null,
      "outputs": []
    },
    {
      "cell_type": "code",
      "source": [
        "# Set batch size and image size\n",
        "batch_size = 32\n",
        "image_size = (224, 224)\n",
        "\n",
        "train_dataset = train_datagen.flow_from_directory(\n",
        "    train_data_dir0,\n",
        "    target_size=image_size,\n",
        "    batch_size=batch_size,\n",
        "    class_mode='categorical',\n",
        "    classes=class_names,\n",
        "    shuffle=True,\n",
        "    subset='training'  # Use this if you have separate train and validation folders\n",
        ")\n",
        "\n",
        "validation_dataset = datagen.flow_from_directory(\n",
        "    valid_data_dir0,\n",
        "    target_size=image_size,\n",
        "    batch_size=batch_size,\n",
        "    class_mode='categorical',\n",
        "    classes=class_names,\n",
        "    shuffle=False,\n",
        ")\n",
        "\n",
        "\n",
        "test_dataset = datagen.flow_from_directory(\n",
        "    test_data_dir0,\n",
        "    target_size=image_size,\n",
        "    batch_size=batch_size,\n",
        "    class_mode='categorical',\n",
        "    classes=class_names,\n",
        "    shuffle=False  # Keep the original order of test images\n",
        ")\n"
      ],
      "metadata": {
        "colab": {
          "base_uri": "https://localhost:8080/"
        },
        "id": "KdA_m5hxx2gi",
        "outputId": "70ee95f1-b63c-423e-fe8b-703aff2aed1c"
      },
      "execution_count": null,
      "outputs": [
        {
          "output_type": "stream",
          "name": "stdout",
          "text": [
            "Found 6444 images belonging to 4 classes.\n",
            "Found 1381 images belonging to 4 classes.\n",
            "Found 1382 images belonging to 4 classes.\n"
          ]
        }
      ]
    },
    {
      "cell_type": "code",
      "source": [
        "# Define a custom Attention Layer\n",
        "class SelfAttention(Layer):\n",
        "    def __init__(self, return_sequences=True):\n",
        "        super(SelfAttention, self).__init__()\n",
        "        self.return_sequences = return_sequences\n",
        "\n",
        "    def build(self, input_shape):\n",
        "        self.W_q = self.add_weight(name=\"W_q\", shape=(input_shape[-1], input_shape[-1]), initializer=\"glorot_uniform\")\n",
        "        self.W_k = self.add_weight(name=\"W_k\", shape=(input_shape[-1], input_shape[-1]), initializer=\"glorot_uniform\")\n",
        "\n",
        "    def call(self, inputs):\n",
        "        q = tf.matmul(inputs, self.W_q)\n",
        "        k = tf.matmul(inputs, self.W_k, transpose_b=True)\n",
        "        v = inputs\n",
        "        attn = tf.nn.softmax(tf.matmul(q, k, transpose_b=True), axis=-1)\n",
        "        output = tf.matmul(attn, v)\n",
        "        if self.return_sequences:\n",
        "            return output\n",
        "        else:\n",
        "            return tf.reduce_sum(output, axis=1)"
      ],
      "metadata": {
        "id": "EohGOpG5yBdX"
      },
      "execution_count": null,
      "outputs": []
    },
    {
      "cell_type": "code",
      "source": [
        "input_shape = (224,224,3)\n",
        "input_layer = Input(shape = (224, 224, 3))\n",
        "num_clases = 4"
      ],
      "metadata": {
        "id": "ESsTL7rUy97S"
      },
      "execution_count": null,
      "outputs": []
    },
    {
      "cell_type": "code",
      "source": [
        "model = VGG16(weights='imagenet', include_top=False)\n",
        "# Freezing the top to intermediate layers means we are keeping the pre-trained weights and we are not training it from scratch.\n",
        "for layer in model.layers:\n",
        "       layer.trainable = False\n",
        "model_vgg = model(input_layer)\n",
        "model_vgg = GlobalAveragePooling2D()(model_vgg)\n",
        "output_vgg = Flatten()(model_vgg)\n",
        "#first model\n",
        "mobilenet_base = MobileNetV2(weights = 'imagenet',input_shape = input_shape,include_top = False)\n",
        "\n",
        "densenet_base = DenseNet169(weights = 'imagenet', input_shape = input_shape,include_top = False)\n",
        "for layer in mobilenet_base.layers:\n",
        "    layer.trainable =  False\n",
        "for layer in densenet_base.layers:\n",
        "    layer.trainable = False\n",
        "\n",
        "model_mobilenet = mobilenet_base(input_layer)\n",
        "model_mobilenet = GlobalAveragePooling2D()(model_mobilenet)\n",
        "output_mobilenet = Flatten()(model_mobilenet)\n",
        "model_densenet = densenet_base(input_layer)\n",
        "model_densenet = GlobalAveragePooling2D()(model_densenet)\n",
        "output_densenet = Flatten()(model_densenet)\n",
        "\n",
        "inception_base = InceptionResNetV2(weights='imagenet', include_top=False, input_shape=input_shape)\n",
        "# Freeze the base model layers for fine-tuning\n",
        "for layer in inception_base.layers:\n",
        "    layer.trainable = False\n",
        "\n",
        "# Add custom classification layers on top of the base model\n",
        "model_inception = inception_base(input_layer)\n",
        "model_inception = GlobalAveragePooling2D()(model_inception)\n",
        "output_inception = Flatten()(model_inception)\n",
        "# predictions = Dense(num_classes, activation='softmax')(x)\n",
        "\n",
        "# Create the final model for fine-tuning\n",
        "# model_inception = Model(inputs=inception_base.input, outputs=predictions)\n",
        "\n"
      ],
      "metadata": {
        "colab": {
          "base_uri": "https://localhost:8080/"
        },
        "id": "SjIvs9CXyDp4",
        "outputId": "1d364a28-6aa2-4e90-e007-3c1b34906b52"
      },
      "execution_count": null,
      "outputs": [
        {
          "output_type": "stream",
          "name": "stdout",
          "text": [
            "Downloading data from https://storage.googleapis.com/tensorflow/keras-applications/mobilenet_v2/mobilenet_v2_weights_tf_dim_ordering_tf_kernels_1.0_224_no_top.h5\n",
            "9406464/9406464 [==============================] - 0s 0us/step\n",
            "Downloading data from https://storage.googleapis.com/tensorflow/keras-applications/densenet/densenet169_weights_tf_dim_ordering_tf_kernels_notop.h5\n",
            "51877672/51877672 [==============================] - 0s 0us/step\n",
            "Downloading data from https://storage.googleapis.com/tensorflow/keras-applications/inception_resnet_v2/inception_resnet_v2_weights_tf_dim_ordering_tf_kernels_notop.h5\n",
            "219055592/219055592 [==============================] - 1s 0us/step\n"
          ]
        }
      ]
    },
    {
      "cell_type": "code",
      "source": [
        "# Add Attention Layer to the model\n",
        "attention_densenet = SelfAttention(return_sequences=True)(model_densenet)\n",
        "merged_densenet = Concatenate(axis=-1)([model_densenet, attention_densenet])\n",
        "output_densenet = Flatten()(merged_densenet)\n",
        "\n",
        "# Add Attention Layer to the model\n",
        "attention_vgg = SelfAttention(return_sequences=True)(model_vgg)\n",
        "merged_vgg = Concatenate(axis=-1)([model_vgg, attention_vgg])\n",
        "output_vgg = Flatten()(merged_vgg)\n",
        "\n",
        "# Add Attention Layer to the model\n",
        "attention_mobilenet  = SelfAttention(return_sequences=True)(model_mobilenet )\n",
        "merged_mobilenet = Concatenate(axis=-1)([model_mobilenet , attention_mobilenet ])\n",
        "output_mobilenet  = Flatten()(merged_mobilenet )\n",
        "\n",
        "# Add Attention Layer to the model\n",
        "attention_inception = SelfAttention(return_sequences=True)(model_inception)\n",
        "merged_inception = Concatenate(axis=-1)([model_inception, attention_inception])\n",
        "output_inception = Flatten()(merged_inception)"
      ],
      "metadata": {
        "id": "4Jr9-ACbyFla"
      },
      "execution_count": null,
      "outputs": []
    },
    {
      "cell_type": "code",
      "source": [
        "# Merge the attention outputs\n",
        "merged = concatenate([output_inception, output_vgg, output_mobilenet, output_densenet], name='concatenated')\n",
        "\n",
        "# merged = concatenate([output_vgg, output_mobilenet, output_densenet], name = 'concatenated')\n",
        "\n",
        "final_layer =  Dense(4, activation = \"softmax\", name = \"output_layer\")(merged)\n",
        "stacked_model = Model(inputs = input_layer, outputs = final_layer)"
      ],
      "metadata": {
        "id": "0crLWRlgyHLt"
      },
      "execution_count": null,
      "outputs": []
    },
    {
      "cell_type": "code",
      "source": [
        "final_layer =  Dense(4, activation = \"softmax\", name = \"output_layer\")(output_inception)\n",
        "stacked_model = Model(inputs = input_layer, outputs = final_layer)"
      ],
      "metadata": {
        "id": "buoyiZcIes3M"
      },
      "execution_count": null,
      "outputs": []
    },
    {
      "cell_type": "code",
      "source": [
        "\n",
        "tf.keras.layers.Concatenate()\n",
        "# stacked_model it is the final model ready for the predictions.\n",
        "# Model Building\n",
        "                                                                                                              #  The output of the stacked model\n",
        "# Model Compilation\n",
        "# So far we have designed our model, its time to assign some learning parameters and compile the model.\n",
        "\n",
        "# LR = 0.0001\n",
        "# optimizer = adam\n",
        "# We are trying adam optimizer and LR = 0.0001, the small rate of learning is the better starting for the pre-trained model.\n",
        "\n",
        "optm = Adam(learning_rate=0.0001)\n",
        "stacked_model.compile(loss='categorical_crossentropy', optimizer=optm,\n",
        "                  metrics=['accuracy'])\n",
        "# Step 6 Defining Callbacks\n",
        "# Callbacks are a tool for efficient training, but it’s not mandatory to use, and it gives us control over the training.\n",
        "\n",
        "from keras.callbacks import EarlyStopping,ReduceLROnPlateau\n",
        "EarlyStopping = EarlyStopping(monitor='val_accuracy',\n",
        "                              min_delta=.01,\n",
        "                              patience=6,\n",
        "                              verbose=1,\n",
        "                              mode='auto',\n",
        "                              baseline=None,\n",
        "                              restore_best_weights=True)\n",
        "# EarlyStopping: It stops the training if the model doesn’t get better results after some epochs.\n",
        "\n",
        "rlr = ReduceLROnPlateau( monitor=\"val_accuracy\",\n",
        "                            factor=0.01,\n",
        "                            patience=6,\n",
        "                            verbose=0,\n",
        "                            mode=\"max\",\n",
        "                            min_delta=0.01)\n",
        "# ReduceLROnPlateau It reduces the rate of learning (LR) if the model doesn’t get better.\n",
        "\n",
        "model_save = tf.keras.callbacks.ModelCheckpoint('./stacked_model_4.h5',\n",
        "                             save_best_only = True,\n",
        "                             save_weights_only = False,\n",
        "                             monitor = 'val_loss',\n",
        "                             mode = 'min', verbose = 1)\n",
        "# ModelCheckpoint : it saves the model at several epochs.\n",
        "\n",
        "# Step 7 Training\n",
        "# Now we are ready with the model and data, it’s time to start the training\n",
        "\n",
        "# nb_train_samples = 6444 # number of training-samples\n",
        "# nb_validation_samples = 1381 # number of validation-samples\n",
        "# nb_test_samples = 1382 # number of training-samples\n",
        "# epochs = 20\n",
        "# batch_size  = 16\n",
        "# Training\n",
        "\n"
      ],
      "metadata": {
        "id": "OjJ9_NKv0OVf"
      },
      "execution_count": null,
      "outputs": []
    },
    {
      "cell_type": "code",
      "source": [
        "stacked_history = stacked_model.fit(train_dataset,\n",
        "                              # steps_per_epoch = nb_train_samples // batch_size,\n",
        "                              epochs = 20,\n",
        "                              validation_data = test_dataset,\n",
        "                              # class_weight=class_weights,\n",
        "                              callbacks=[EarlyStopping, model_save,rlr])"
      ],
      "metadata": {
        "colab": {
          "base_uri": "https://localhost:8080/"
        },
        "id": "IBFq8uva0STG",
        "outputId": "39f9bc1d-5cea-4a72-9baa-93525e787a10"
      },
      "execution_count": null,
      "outputs": [
        {
          "output_type": "stream",
          "name": "stdout",
          "text": [
            "Epoch 1/20\n",
            "202/202 [==============================] - ETA: 0s - loss: 1.1470 - accuracy: 0.5273\n",
            "Epoch 1: val_loss improved from inf to 0.90142, saving model to ./stacked_model_4.h5\n",
            "202/202 [==============================] - 1928s 9s/step - loss: 1.1470 - accuracy: 0.5273 - val_loss: 0.9014 - val_accuracy: 0.5948 - lr: 1.0000e-04\n",
            "Epoch 2/20\n",
            "202/202 [==============================] - ETA: 0s - loss: 0.8214 - accuracy: 0.6816\n",
            "Epoch 2: val_loss improved from 0.90142 to 0.72727, saving model to ./stacked_model_4.h5\n",
            "202/202 [==============================] - 223s 1s/step - loss: 0.8214 - accuracy: 0.6816 - val_loss: 0.7273 - val_accuracy: 0.6845 - lr: 1.0000e-04\n",
            "Epoch 3/20\n",
            "202/202 [==============================] - ETA: 0s - loss: 0.7325 - accuracy: 0.7062\n",
            "Epoch 3: val_loss improved from 0.72727 to 0.72113, saving model to ./stacked_model_4.h5\n",
            "202/202 [==============================] - 203s 1s/step - loss: 0.7325 - accuracy: 0.7062 - val_loss: 0.7211 - val_accuracy: 0.6751 - lr: 1.0000e-04\n",
            "Epoch 4/20\n",
            "202/202 [==============================] - ETA: 0s - loss: 0.6821 - accuracy: 0.7303\n",
            "Epoch 4: val_loss improved from 0.72113 to 0.70075, saving model to ./stacked_model_4.h5\n",
            "202/202 [==============================] - 204s 1s/step - loss: 0.6821 - accuracy: 0.7303 - val_loss: 0.7008 - val_accuracy: 0.6809 - lr: 1.0000e-04\n",
            "Epoch 5/20\n",
            "202/202 [==============================] - ETA: 0s - loss: 0.6524 - accuracy: 0.7419\n",
            "Epoch 5: val_loss improved from 0.70075 to 0.65708, saving model to ./stacked_model_4.h5\n",
            "202/202 [==============================] - 207s 1s/step - loss: 0.6524 - accuracy: 0.7419 - val_loss: 0.6571 - val_accuracy: 0.7062 - lr: 1.0000e-04\n",
            "Epoch 6/20\n",
            "202/202 [==============================] - ETA: 0s - loss: 0.6291 - accuracy: 0.7455\n",
            "Epoch 6: val_loss improved from 0.65708 to 0.60469, saving model to ./stacked_model_4.h5\n",
            "202/202 [==============================] - 200s 993ms/step - loss: 0.6291 - accuracy: 0.7455 - val_loss: 0.6047 - val_accuracy: 0.7525 - lr: 1.0000e-04\n",
            "Epoch 7/20\n",
            "202/202 [==============================] - ETA: 0s - loss: 0.6212 - accuracy: 0.7512\n",
            "Epoch 7: val_loss improved from 0.60469 to 0.60455, saving model to ./stacked_model_4.h5\n",
            "202/202 [==============================] - 196s 971ms/step - loss: 0.6212 - accuracy: 0.7512 - val_loss: 0.6045 - val_accuracy: 0.7475 - lr: 1.0000e-04\n",
            "Epoch 8/20\n",
            "202/202 [==============================] - ETA: 0s - loss: 0.5979 - accuracy: 0.7661\n",
            "Epoch 8: val_loss improved from 0.60455 to 0.59478, saving model to ./stacked_model_4.h5\n",
            "202/202 [==============================] - 187s 927ms/step - loss: 0.5979 - accuracy: 0.7661 - val_loss: 0.5948 - val_accuracy: 0.7518 - lr: 1.0000e-04\n",
            "Epoch 9/20\n",
            "202/202 [==============================] - ETA: 0s - loss: 0.5916 - accuracy: 0.7646\n",
            "Epoch 9: val_loss improved from 0.59478 to 0.58082, saving model to ./stacked_model_4.h5\n",
            "202/202 [==============================] - 190s 939ms/step - loss: 0.5916 - accuracy: 0.7646 - val_loss: 0.5808 - val_accuracy: 0.7511 - lr: 1.0000e-04\n",
            "Epoch 10/20\n",
            "202/202 [==============================] - ETA: 0s - loss: 0.5873 - accuracy: 0.7719\n",
            "Epoch 10: val_loss did not improve from 0.58082\n",
            "202/202 [==============================] - 184s 908ms/step - loss: 0.5873 - accuracy: 0.7719 - val_loss: 0.5888 - val_accuracy: 0.7518 - lr: 1.0000e-04\n",
            "Epoch 11/20\n",
            "202/202 [==============================] - ETA: 0s - loss: 0.5720 - accuracy: 0.7700\n",
            "Epoch 11: val_loss improved from 0.58082 to 0.56064, saving model to ./stacked_model_4.h5\n",
            "202/202 [==============================] - 186s 921ms/step - loss: 0.5720 - accuracy: 0.7700 - val_loss: 0.5606 - val_accuracy: 0.7576 - lr: 1.0000e-04\n",
            "Epoch 12/20\n",
            "202/202 [==============================] - ETA: 0s - loss: 0.5633 - accuracy: 0.7764Restoring model weights from the end of the best epoch: 6.\n",
            "\n",
            "Epoch 12: val_loss did not improve from 0.56064\n",
            "202/202 [==============================] - 185s 914ms/step - loss: 0.5633 - accuracy: 0.7764 - val_loss: 0.5979 - val_accuracy: 0.7467 - lr: 1.0000e-04\n",
            "Epoch 12: early stopping\n"
          ]
        }
      ]
    },
    {
      "cell_type": "code",
      "source": [
        "# Plot the loss and accuracy curves\n",
        "plt.figure(figsize=(12, 4))\n",
        "\n",
        "# Plot training & validation loss values\n",
        "plt.subplot(1, 2, 1)\n",
        "plt.plot(stacked_history.history['loss'], label='Training Loss')\n",
        "plt.plot(stacked_history.history['val_loss'], label='Validation Loss')\n",
        "plt.xlabel('Epoch')\n",
        "plt.ylabel('Loss')\n",
        "plt.legend()\n",
        "plt.title('Loss Curve')\n",
        "\n",
        "# Plot training & validation accuracy values\n",
        "plt.subplot(1, 2, 2)\n",
        "plt.plot(stacked_history.history['accuracy'], label='Training Accuracy')\n",
        "plt.plot(stacked_history.history['val_accuracy'], label='Validation Accuracy')\n",
        "plt.xlabel('Epoch')\n",
        "plt.ylabel('Accuracy')\n",
        "plt.legend()\n",
        "plt.title('Accuracy Curve')\n",
        "\n",
        "plt.tight_layout()\n",
        "plt.show()"
      ],
      "metadata": {
        "colab": {
          "base_uri": "https://localhost:8080/",
          "height": 407
        },
        "id": "aMvPsyXhOpe4",
        "outputId": "7dd5216c-5c4e-43bf-bfbe-9816f74cc28c"
      },
      "execution_count": null,
      "outputs": [
        {
          "output_type": "display_data",
          "data": {
            "text/plain": [
              "<Figure size 1200x400 with 2 Axes>"
            ],
            "image/png": "[encoded data removed]"
          },
          "metadata": {}
        }
      ]
    }
  ]
}
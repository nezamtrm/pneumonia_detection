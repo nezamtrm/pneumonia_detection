{
  "nbformat": 4,
  "nbformat_minor": 0,
  "metadata": {
    "colab": {
      "provenance": [],
      "gpuType": "T4"
    },
    "kernelspec": {
      "name": "python3",
      "display_name": "Python 3"
    },
    "language_info": {
      "name": "python"
    },
    "accelerator": "GPU"
  },
  "cells": [
    {
      "cell_type": "code",
      "source": [
        "from google.colab import drive\n",
        "drive.mount('/content/gdrive')"
      ],
      "metadata": {
        "colab": {
          "base_uri": "https://localhost:8080/"
        },
        "id": "EkfYLtYqxvGx",
        "outputId": "a99d9ed1-7124-4fa6-ebfa-d10a041408f7"
      },
      "execution_count": 2,
      "outputs": [
        {
          "output_type": "stream",
          "name": "stdout",
          "text": [
            "Mounted at /content/gdrive\n"
          ]
        }
      ]
    },
    {
      "cell_type": "code",
      "source": [
        "import numpy as np\n",
        "from pathlib import Path\n",
        "import matplotlib.pyplot as plt\n",
        "import tensorflow as tf\n",
        "from tensorflow.keras.utils import image_dataset_from_directory\n",
        "from tensorflow.keras import Sequential , Input, layers , losses , optimizers\n",
        "from tensorflow.keras.applications.vgg16 import VGG16\n",
        "from tensorflow.keras.applications.vgg16 import preprocess_input\n",
        "from keras.applications.efficientnet import EfficientNetB3\n",
        "from keras.preprocessing.image import ImageDataGenerator\n",
        "from sklearn.model_selection import train_test_split\n",
        "import os\n",
        "import shutil\n",
        "import matplotlib.pyplot as plt\n",
        "from keras.layers import concatenate\n",
        "from keras.layers import Input\n",
        "from keras.optimizers import Adam, Adamax\n",
        "from keras.layers import MaxPooling2D, Flatten,Conv2D, Dense,BatchNormalization,GlobalAveragePooling2D,Dropout\n",
        "from tensorflow.keras.applications.densenet import DenseNet169\n",
        "from keras.applications.mobilenet_v2 import MobileNetV2\n",
        "from keras.models import Model\n",
        "from keras import regularizers\n",
        "from tensorflow.keras.layers import Attention\n",
        "from tensorflow.keras.applications import InceptionResNetV2\n",
        "from tensorflow.keras.layers import Attention, Concatenate, Lambda, Layer\n",
        "# import tensorflow as tf\n",
        "# from tensorflow.keras.preprocessing.image import ImageDataGenerator"
      ],
      "metadata": {
        "id": "EELg_jMCvHCM"
      },
      "execution_count": 18,
      "outputs": []
    },
    {
      "cell_type": "code",
      "source": [
        "data_dir = '/content/gdrive/MyDrive/Colab Notebooks/dataset/Curated X-Ray Dataset'\n",
        "class_names = ['COVID-19', 'Normal', 'Pneumonia-Bacterial', 'Pneumonia-Viral']"
      ],
      "metadata": {
        "id": "Vk98A7g5xz8m"
      },
      "execution_count": 9,
      "outputs": []
    },
    {
      "cell_type": "code",
      "source": [
        "test_data_dir0 = '/content/gdrive/MyDrive/Colab Notebooks/dataset/Curated X-Ray Dataset/test_set'\n",
        "train_data_dir0 = '/content/gdrive/MyDrive/Colab Notebooks/dataset/Curated X-Ray Dataset/train_set'\n",
        "valid_data_dir0 = '/content/gdrive/MyDrive/Colab Notebooks/dataset/Curated X-Ray Dataset/valid_set'"
      ],
      "metadata": {
        "id": "GNxooTlJx2Z_"
      },
      "execution_count": 4,
      "outputs": []
    },
    {
      "cell_type": "code",
      "source": [
        "datagen = ImageDataGenerator(rescale=1.0 / 255)\n"
      ],
      "metadata": {
        "id": "xeJBS921x2cX"
      },
      "execution_count": 5,
      "outputs": []
    },
    {
      "cell_type": "code",
      "source": [
        "train_datagen = ImageDataGenerator(\n",
        "    rescale=1.0 / 255,      # Rescale pixel values to [0, 1]\n",
        "    rotation_range=20,      # Randomly rotate images by 20 degrees\n",
        "    width_shift_range=0.2,  # Randomly shift images horizontally by 20% of the width\n",
        "    height_shift_range=0.2, # Randomly shift images vertically by 20% of the height\n",
        "    shear_range=0.2,        # Shear transformations\n",
        "    zoom_range=0.2,         # Randomly zoom images by 20%\n",
        "    horizontal_flip=True,   # Randomly flip images horizontally\n",
        "    fill_mode='nearest'     # How to fill newly created pixels after rotation or shifts\n",
        ")"
      ],
      "metadata": {
        "id": "8wC5VeZlx2eY"
      },
      "execution_count": 6,
      "outputs": []
    },
    {
      "cell_type": "code",
      "source": [
        "# Set batch size and image size\n",
        "batch_size = 32\n",
        "image_size = (224, 224)\n",
        "\n",
        "train_dataset = train_datagen.flow_from_directory(\n",
        "    train_data_dir0,\n",
        "    target_size=image_size,\n",
        "    batch_size=batch_size,\n",
        "    class_mode='categorical',\n",
        "    classes=class_names,\n",
        "    shuffle=True,\n",
        "    subset='training'  # Use this if you have separate train and validation folders\n",
        ")\n",
        "\n",
        "validation_dataset = datagen.flow_from_directory(\n",
        "    valid_data_dir0,\n",
        "    target_size=image_size,\n",
        "    batch_size=batch_size,\n",
        "    class_mode='categorical',\n",
        "    classes=class_names,\n",
        "    shuffle=False,\n",
        ")\n",
        "\n",
        "\n",
        "test_dataset = datagen.flow_from_directory(\n",
        "    test_data_dir0,\n",
        "    target_size=image_size,\n",
        "    batch_size=batch_size,\n",
        "    class_mode='categorical',\n",
        "    classes=class_names,\n",
        "    shuffle=False  # Keep the original order of test images\n",
        ")\n"
      ],
      "metadata": {
        "colab": {
          "base_uri": "https://localhost:8080/"
        },
        "id": "KdA_m5hxx2gi",
        "outputId": "2cbce4e0-d4f7-412d-cdfb-d01d4a8f29ae"
      },
      "execution_count": 10,
      "outputs": [
        {
          "output_type": "stream",
          "name": "stdout",
          "text": [
            "Found 6444 images belonging to 4 classes.\n",
            "Found 1381 images belonging to 4 classes.\n",
            "Found 1382 images belonging to 4 classes.\n"
          ]
        }
      ]
    },
    {
      "cell_type": "code",
      "source": [
        "input_shape = (224,224,3)\n",
        "input_layer = Input(shape = (224, 224, 3))\n",
        "num_clases = 4"
      ],
      "metadata": {
        "id": "ESsTL7rUy97S"
      },
      "execution_count": 11,
      "outputs": []
    },
    {
      "cell_type": "code",
      "source": [
        "model = VGG16(weights='imagenet', include_top=False)\n",
        "# Freezing the top to intermediate layers means we are keeping the pre-trained weights and we are not training it from scratch.\n",
        "for layer in model.layers:\n",
        "       layer.trainable = False\n",
        "model_vgg = model(input_layer)\n",
        "model_vgg = GlobalAveragePooling2D()(model_vgg)\n",
        "output_vgg = Flatten()(model_vgg)\n",
        "#first model\n",
        "mobilenet_base = MobileNetV2(weights = 'imagenet',input_shape = input_shape,include_top = False)\n",
        "\n",
        "densenet_base = DenseNet169(weights = 'imagenet', input_shape = input_shape,include_top = False)\n",
        "for layer in mobilenet_base.layers:\n",
        "    layer.trainable =  False\n",
        "for layer in densenet_base.layers:\n",
        "    layer.trainable = False\n",
        "\n",
        "model_mobilenet = mobilenet_base(input_layer)\n",
        "model_mobilenet = GlobalAveragePooling2D()(model_mobilenet)\n",
        "output_mobilenet = Flatten()(model_mobilenet)\n",
        "model_densenet = densenet_base(input_layer)\n",
        "model_densenet = GlobalAveragePooling2D()(model_densenet)\n",
        "output_densenet = Flatten()(model_densenet)\n",
        "\n",
        "inception_base = InceptionResNetV2(weights='imagenet', include_top=False, input_shape=input_shape)\n",
        "# Freeze the base model layers for fine-tuning\n",
        "for layer in inception_base.layers:\n",
        "    layer.trainable = False\n",
        "\n",
        "# Add custom classification layers on top of the base model\n",
        "model_inception = inception_base(input_layer)\n",
        "model_inception = GlobalAveragePooling2D()(model_inception)\n",
        "output_inception = Flatten()(model_inception)\n",
        "# predictions = Dense(num_classes, activation='softmax')(x)\n",
        "\n",
        "# Create the final model for fine-tuning\n",
        "# model_inception = Model(inputs=inception_base.input, outputs=predictions)\n",
        "\n"
      ],
      "metadata": {
        "colab": {
          "base_uri": "https://localhost:8080/"
        },
        "id": "SjIvs9CXyDp4",
        "outputId": "c6033d0b-11ff-4922-e84f-3c3fdcb87b3b"
      },
      "execution_count": 12,
      "outputs": [
        {
          "output_type": "stream",
          "name": "stdout",
          "text": [
            "Downloading data from https://storage.googleapis.com/tensorflow/keras-applications/vgg16/vgg16_weights_tf_dim_ordering_tf_kernels_notop.h5\n",
            "58889256/58889256 [==============================] - 0s 0us/step\n",
            "Downloading data from https://storage.googleapis.com/tensorflow/keras-applications/mobilenet_v2/mobilenet_v2_weights_tf_dim_ordering_tf_kernels_1.0_224_no_top.h5\n",
            "9406464/9406464 [==============================] - 0s 0us/step\n",
            "Downloading data from https://storage.googleapis.com/tensorflow/keras-applications/densenet/densenet169_weights_tf_dim_ordering_tf_kernels_notop.h5\n",
            "51877672/51877672 [==============================] - 0s 0us/step\n",
            "Downloading data from https://storage.googleapis.com/tensorflow/keras-applications/inception_resnet_v2/inception_resnet_v2_weights_tf_dim_ordering_tf_kernels_notop.h5\n",
            "219055592/219055592 [==============================] - 2s 0us/step\n"
          ]
        }
      ]
    },
    {
      "cell_type": "code",
      "source": [
        "# Merge the attention outputs\n",
        "merged = concatenate([output_vgg, output_inception, output_mobilenet, output_densenet], name='concatenated')\n",
        "\n",
        "# merged = concatenate([output_vgg, output_mobilenet, output_densenet], name = 'concatenated')\n",
        "\n",
        "final_layer =  Dense(4, activation = \"softmax\", name = \"output_layer\")(merged)\n",
        "stacked_model = Model(inputs = input_layer, outputs = final_layer)"
      ],
      "metadata": {
        "id": "0crLWRlgyHLt"
      },
      "execution_count": 15,
      "outputs": []
    },
    {
      "cell_type": "code",
      "source": [
        "final_layer =  Dense(4, activation = \"softmax\", name = \"output_layer\")(output_inception)\n",
        "stacked_model = Model(inputs = input_layer, outputs = final_layer)"
      ],
      "metadata": {
        "id": "buoyiZcIes3M"
      },
      "execution_count": null,
      "outputs": []
    },
    {
      "cell_type": "code",
      "source": [
        "\n",
        "tf.keras.layers.Concatenate()\n",
        "# stacked_model it is the final model ready for the predictions.\n",
        "# Model Building\n",
        "                                                                                                              #  The output of the stacked model\n",
        "# Model Compilation\n",
        "# So far we have designed our model, its time to assign some learning parameters and compile the model.\n",
        "\n",
        "# LR = 0.0001\n",
        "# optimizer = adam\n",
        "# We are trying adam optimizer and LR = 0.0001, the small rate of learning is the better starting for the pre-trained model.\n",
        "\n",
        "optm = Adam(learning_rate=0.0001)\n",
        "stacked_model.compile(loss='categorical_crossentropy', optimizer=optm,\n",
        "                  metrics=['accuracy'])\n",
        "# Step 6 Defining Callbacks\n",
        "# Callbacks are a tool for efficient training, but it’s not mandatory to use, and it gives us control over the training.\n",
        "\n",
        "from keras.callbacks import EarlyStopping,ReduceLROnPlateau\n",
        "EarlyStopping = EarlyStopping(monitor='val_accuracy',\n",
        "                              min_delta=.01,\n",
        "                              patience=6,\n",
        "                              verbose=1,\n",
        "                              mode='auto',\n",
        "                              baseline=None,\n",
        "                              restore_best_weights=True)\n",
        "# EarlyStopping: It stops the training if the model doesn’t get better results after some epochs.\n",
        "\n",
        "rlr = ReduceLROnPlateau( monitor=\"val_accuracy\",\n",
        "                            factor=0.01,\n",
        "                            patience=6,\n",
        "                            verbose=0,\n",
        "                            mode=\"max\",\n",
        "                            min_delta=0.01)\n",
        "# ReduceLROnPlateau It reduces the rate of learning (LR) if the model doesn’t get better.\n",
        "\n",
        "model_save = tf.keras.callbacks.ModelCheckpoint('./stacked_model_4.h5',\n",
        "                             save_best_only = True,\n",
        "                             save_weights_only = False,\n",
        "                             monitor = 'val_loss',\n",
        "                             mode = 'min', verbose = 1)\n",
        "# ModelCheckpoint : it saves the model at several epochs.\n",
        "\n",
        "# Step 7 Training\n",
        "# Now we are ready with the model and data, it’s time to start the training\n",
        "\n",
        "# nb_train_samples = 6444 # number of training-samples\n",
        "# nb_validation_samples = 1381 # number of validation-samples\n",
        "# nb_test_samples = 1382 # number of training-samples\n",
        "# epochs = 20\n",
        "# batch_size  = 16\n",
        "# Training\n",
        "\n"
      ],
      "metadata": {
        "id": "OjJ9_NKv0OVf"
      },
      "execution_count": 16,
      "outputs": []
    },
    {
      "cell_type": "code",
      "source": [
        "stacked_history = stacked_model.fit(train_dataset,\n",
        "                              # steps_per_epoch = nb_train_samples // batch_size,\n",
        "                              epochs = 20,\n",
        "                              validation_data = test_dataset,\n",
        "                              # class_weight=class_weights,\n",
        "                              callbacks=[EarlyStopping, model_save,rlr])"
      ],
      "metadata": {
        "colab": {
          "base_uri": "https://localhost:8080/"
        },
        "id": "IBFq8uva0STG",
        "outputId": "f813ea91-0f36-4118-8552-7a55eba0b340"
      },
      "execution_count": 17,
      "outputs": [
        {
          "output_type": "stream",
          "name": "stdout",
          "text": [
            "Epoch 1/20\n",
            "202/202 [==============================] - ETA: 0s - loss: 0.8606 - accuracy: 0.6634 \n",
            "Epoch 1: val_loss improved from inf to 0.72828, saving model to ./stacked_model_4.h5\n"
          ]
        },
        {
          "output_type": "stream",
          "name": "stderr",
          "text": [
            "/usr/local/lib/python3.10/dist-packages/keras/src/engine/training.py:3000: UserWarning: You are saving your model as an HDF5 file via `model.save()`. This file format is considered legacy. We recommend using instead the native Keras format, e.g. `model.save('my_model.keras')`.\n",
            "  saving_api.save_model(\n"
          ]
        },
        {
          "output_type": "stream",
          "name": "stdout",
          "text": [
            "\b\b\b\b\b\b\b\b\b\b\b\b\b\b\b\b\b\b\b\b\b\b\b\b\b\b\b\b\b\b\b\b\b\b\b\b\b\b\b\b\b\b\b\b\b\b\b\b\b\b\b\b\b\b\b\b\b\b\b\b\b\b\b\b\b\b\b\b\b\b\b\b\b\b\b\b\b\b\b\b\b\b\b\b\r202/202 [==============================] - 3332s 16s/step - loss: 0.8606 - accuracy: 0.6634 - val_loss: 0.7283 - val_accuracy: 0.6896 - lr: 1.0000e-04\n",
            "Epoch 2/20\n",
            "202/202 [==============================] - ETA: 0s - loss: 0.5777 - accuracy: 0.7714\n",
            "Epoch 2: val_loss improved from 0.72828 to 0.60252, saving model to ./stacked_model_4.h5\n",
            "202/202 [==============================] - 241s 1s/step - loss: 0.5777 - accuracy: 0.7714 - val_loss: 0.6025 - val_accuracy: 0.7323 - lr: 1.0000e-04\n",
            "Epoch 3/20\n",
            "202/202 [==============================] - ETA: 0s - loss: 0.5275 - accuracy: 0.7872\n",
            "Epoch 3: val_loss improved from 0.60252 to 0.54072, saving model to ./stacked_model_4.h5\n",
            "202/202 [==============================] - 239s 1s/step - loss: 0.5275 - accuracy: 0.7872 - val_loss: 0.5407 - val_accuracy: 0.7677 - lr: 1.0000e-04\n",
            "Epoch 4/20\n",
            "202/202 [==============================] - ETA: 0s - loss: 0.4797 - accuracy: 0.8071\n",
            "Epoch 4: val_loss did not improve from 0.54072\n",
            "202/202 [==============================] - 250s 1s/step - loss: 0.4797 - accuracy: 0.8071 - val_loss: 0.5572 - val_accuracy: 0.7576 - lr: 1.0000e-04\n",
            "Epoch 5/20\n",
            "202/202 [==============================] - ETA: 0s - loss: 0.4692 - accuracy: 0.8133\n",
            "Epoch 5: val_loss improved from 0.54072 to 0.46871, saving model to ./stacked_model_4.h5\n",
            "202/202 [==============================] - 236s 1s/step - loss: 0.4692 - accuracy: 0.8133 - val_loss: 0.4687 - val_accuracy: 0.8046 - lr: 1.0000e-04\n",
            "Epoch 6/20\n",
            "202/202 [==============================] - ETA: 0s - loss: 0.4515 - accuracy: 0.8191\n",
            "Epoch 6: val_loss did not improve from 0.46871\n",
            "202/202 [==============================] - 235s 1s/step - loss: 0.4515 - accuracy: 0.8191 - val_loss: 0.4952 - val_accuracy: 0.7938 - lr: 1.0000e-04\n",
            "Epoch 7/20\n",
            "202/202 [==============================] - ETA: 0s - loss: 0.4402 - accuracy: 0.8167\n",
            "Epoch 7: val_loss did not improve from 0.46871\n",
            "202/202 [==============================] - 236s 1s/step - loss: 0.4402 - accuracy: 0.8167 - val_loss: 0.4788 - val_accuracy: 0.8032 - lr: 1.0000e-04\n",
            "Epoch 8/20\n",
            "202/202 [==============================] - ETA: 0s - loss: 0.4325 - accuracy: 0.8268\n",
            "Epoch 8: val_loss did not improve from 0.46871\n",
            "202/202 [==============================] - 238s 1s/step - loss: 0.4325 - accuracy: 0.8268 - val_loss: 0.4762 - val_accuracy: 0.7952 - lr: 1.0000e-04\n",
            "Epoch 9/20\n",
            "202/202 [==============================] - ETA: 0s - loss: 0.4230 - accuracy: 0.8274\n",
            "Epoch 9: val_loss did not improve from 0.46871\n",
            "202/202 [==============================] - 237s 1s/step - loss: 0.4230 - accuracy: 0.8274 - val_loss: 0.4950 - val_accuracy: 0.7931 - lr: 1.0000e-04\n",
            "Epoch 10/20\n",
            "202/202 [==============================] - ETA: 0s - loss: 0.4182 - accuracy: 0.8304\n",
            "Epoch 10: val_loss improved from 0.46871 to 0.46871, saving model to ./stacked_model_4.h5\n",
            "202/202 [==============================] - 245s 1s/step - loss: 0.4182 - accuracy: 0.8304 - val_loss: 0.4687 - val_accuracy: 0.8010 - lr: 1.0000e-04\n",
            "Epoch 11/20\n",
            "202/202 [==============================] - ETA: 0s - loss: 0.4088 - accuracy: 0.8340Restoring model weights from the end of the best epoch: 5.\n",
            "\n",
            "Epoch 11: val_loss did not improve from 0.46871\n",
            "202/202 [==============================] - 237s 1s/step - loss: 0.4088 - accuracy: 0.8340 - val_loss: 0.5159 - val_accuracy: 0.7851 - lr: 1.0000e-04\n",
            "Epoch 11: early stopping\n"
          ]
        }
      ]
    },
    {
      "cell_type": "code",
      "source": [
        "# Plot the loss and accuracy curves\n",
        "plt.figure(figsize=(12, 4))\n",
        "\n",
        "# Plot training & validation loss values\n",
        "plt.subplot(1, 2, 1)\n",
        "plt.plot(stacked_history.history['loss'], label='Training Loss')\n",
        "plt.plot(stacked_history.history['val_loss'], label='Validation Loss')\n",
        "plt.xlabel('Epoch')\n",
        "plt.ylabel('Loss')\n",
        "plt.legend()\n",
        "plt.title('Loss Curve')\n",
        "\n",
        "# Plot training & validation accuracy values\n",
        "plt.subplot(1, 2, 2)\n",
        "plt.plot(stacked_history.history['accuracy'], label='Training Accuracy')\n",
        "plt.plot(stacked_history.history['val_accuracy'], label='Validation Accuracy')\n",
        "plt.xlabel('Epoch')\n",
        "plt.ylabel('Accuracy')\n",
        "plt.legend()\n",
        "plt.title('Accuracy Curve')\n",
        "\n",
        "plt.tight_layout()\n",
        "plt.show()"
      ],
      "metadata": {
        "colab": {
          "base_uri": "https://localhost:8080/",
          "height": 358
        },
        "id": "aMvPsyXhOpe4",
        "outputId": "672f7ccd-e07b-4a79-d231-57b268004ea8"
      },
      "execution_count": 19,
      "outputs": [
        {
          "output_type": "display_data",
          "data": {
            "text/plain": [
              "<Figure size 1200x400 with 2 Axes>"
            ],
            "image/png": "[encoded data removed]"
          },
          "metadata": {}
        }
      ]
    }
  ]
}